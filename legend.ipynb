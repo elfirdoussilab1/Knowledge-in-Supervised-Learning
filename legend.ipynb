{
 "cells": [
  {
   "cell_type": "code",
   "execution_count": 1,
   "id": "79b730b5",
   "metadata": {},
   "outputs": [
    {
     "data": {
      "image/png": "[encoded data removed]",
      "text/plain": [
       "<Figure size 1500x100 with 1 Axes>"
      ]
     },
     "metadata": {},
     "output_type": "display_data"
    }
   ],
   "source": [
    "import matplotlib.pyplot as plt\n",
    "\n",
    "# Create a Figure and Axes\n",
    "fig, ax = plt.subplots(figsize = (15, 1))\n",
    "\n",
    "ax.plot([], [], label='Theory $\\mathcal{C}_1$', color = 'tab:red')\n",
    "ax.plot([], [], label='Theory $\\mathcal{C}_2$', color = 'tab:blue')\n",
    "ax.hist([], label='Simulation $\\mathcal{C}_1$', color = 'tab:red', alpha = .5)\n",
    "ax.hist([], label='Simulation $\\mathcal{C}_2$', color = 'tab:blue', alpha = .5)\n",
    "\n",
    "plt.legend(loc='upper center', bbox_to_anchor=(0.5, 0.5), fontsize = 17, fancybox= True, ncol = 4 )\n",
    "\n",
    "# Hide the axes to only show the legend\n",
    "ax.set_axis_off()\n",
    "\n",
    "# Save the plot with only the legend to a PDF file\n",
    "fig.savefig('legend_1.pdf', bbox_inches='tight')\n",
    "\n",
    "# Show the legend (optional)\n",
    "plt.show()"
   ]
  },
  {
   "cell_type": "code",
   "execution_count": null,
   "id": "8b51c503",
   "metadata": {},
   "outputs": [],
   "source": []
  }
 ],
 "metadata": {
  "kernelspec": {
   "display_name": ".venv",
   "language": "python",
   "name": "python3"
  },
  "language_info": {
   "codemirror_mode": {
    "name": "ipython",
    "version": 3
   },
   "file_extension": ".py",
   "mimetype": "text/x-python",
   "name": "python",
   "nbconvert_exporter": "python",
   "pygments_lexer": "ipython3",
   "version": "3.11.5"
  }
 },
 "nbformat": 4,
 "nbformat_minor": 5
}
